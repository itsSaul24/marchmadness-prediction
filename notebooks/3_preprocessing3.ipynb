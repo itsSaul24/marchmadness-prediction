{
 "cells": [
  {
   "cell_type": "code",
   "execution_count": 1,
   "metadata": {},
   "outputs": [],
   "source": [
    "# import required packages\n",
    "import os\n",
    "import pandas as pd\n",
    "import matplotlib.pyplot as plt\n",
    "import seaborn as sns\n",
    "import matplotlib.pyplot as plt\n",
    "import seaborn as sns\n",
    "from sklearn.preprocessing import StandardScaler\n",
    "from sklearn.decomposition import PCA\n",
    "from mpl_toolkits.mplot3d import Axes3D\n",
    "import numpy as np\n",
    "import os"
   ]
  },
  {
   "cell_type": "code",
   "execution_count": 5,
   "metadata": {},
   "outputs": [
    {
     "name": "stdout",
     "output_type": "stream",
     "text": [
      "height13.csv\n",
      "height15.csv\n",
      "height14.csv\n",
      "height16.csv\n",
      "height17.csv\n",
      "height19.csv\n",
      "height18.csv\n",
      "height21.csv\n",
      "height23.csv\n",
      "height22.csv\n"
     ]
    }
   ],
   "source": [
    "import os\n",
    "import pandas as pd\n",
    "\n",
    "# Script to combine final season data\n",
    "directory = os.getcwd() + \"/data-height-exp\"\n",
    "\n",
    "# Initialize a list to hold DataFrames\n",
    "dfs = []\n",
    "\n",
    "# Define a mapping of non-standard column names to standard ones\n",
    "column_name_mapping = {\n",
    "    'Height': 'Size',\n",
    "    'RankHeight': 'SizeRank',\n",
    "    'HgtC': 'Hgt5',\n",
    "    'RankHgtC': 'Hgt5Rank',\n",
    "    'HgtPF': 'Hgt4',\n",
    "    'RankHgtPF': 'Hgt4Rank',\n",
    "    'HgtSF': 'Hgt3',\n",
    "    'RankHgtSF': 'Hgt3Rank',\n",
    "    'HgtSG': 'Hgt2',\n",
    "    'RankHgtSG': 'Hgt2Rank',\n",
    "    'HgtPG': 'Hgt1',\n",
    "    'RankHgtPG': 'Hgt1Rank',\n",
    "    'HgtEff': 'HgtEff',\n",
    "    'RankHgtEff': 'HgtEffRank',\n",
    "    'Exp': 'Exp',\n",
    "    'RankExp': 'ExpRank',\n",
    "    'Bench': 'Bench',\n",
    "    'RankBench': 'BenchRank',\n",
    "    'PtsC': 'Pts5',\n",
    "    'RankPtsC': 'Pts5Rank',\n",
    "    'PtsPF': 'Pts4',\n",
    "    'RankPtsPF': 'Pts4Rank',\n",
    "    'PtsSF': 'Pts3',\n",
    "    'RankPtsSF': 'Pts3Rank',\n",
    "    'PtsSG': 'Pts2',\n",
    "    'RankPtsSG': 'Pts2Rank',\n",
    "    'PtsPG': 'Pts1',\n",
    "    'RankPtsPG': 'Pts1Rank',\n",
    "    'ORC': 'OR5',\n",
    "    'RankORC': 'OR5Rank',\n",
    "    'ORPF': 'OR4',\n",
    "    'RankORPF': 'OR4Rank',\n",
    "    'ORSF': 'OR3',\n",
    "    'RankORSF': 'OR3Rank',\n",
    "    'ORSG': 'OR2',\n",
    "    'RankORSG': 'OR2Rank',\n",
    "    'ORPG': 'OR1',\n",
    "    'RankORPG': 'OR1Rank',\n",
    "    'DRC': 'DR5',\n",
    "    'RankDRC': 'DR5Rank',\n",
    "    'DRPF': 'DR4',\n",
    "    'RankDRPF': 'DR4Rank',\n",
    "    'DRSF': 'DR3',\n",
    "    'RankDRSF': 'DR3Rank',\n",
    "    'DRSG': 'DR2',\n",
    "    'RankDRSG': 'DR2Rank',\n",
    "    'DRPG': 'DR1',\n",
    "    'RankDRPG': 'DR1Rank'\n",
    "}\n",
    "\n",
    "\n",
    "# Loop through all files in the directory\n",
    "first_file = True\n",
    "for filename in os.listdir(directory):\n",
    "    if filename.endswith(\".csv\"):\n",
    "        print(filename)\n",
    "        filepath = os.path.join(directory, filename)  # Use os.path.join for better path handling\n",
    "        # Read each CSV file into a DataFrame\n",
    "        data = pd.read_csv(filepath)\n",
    "\n",
    "        # Standardize column names\n",
    "        data.rename(columns=column_name_mapping, inplace=True)\n",
    "\n",
    "        if first_file:\n",
    "            # For the first file, remember the data types\n",
    "            dtypes = data.dtypes\n",
    "            first_file = False\n",
    "        else:\n",
    "            # For subsequent files, adjust the data types to match the first file\n",
    "            for column in dtypes.index:\n",
    "                if column in data.columns:  # Make sure the column exists in the DataFrame\n",
    "                    data[column] = data[column].astype(dtypes[column])\n",
    "                else:\n",
    "                    # Handle missing columns in subsequent files\n",
    "                    data[column] = pd.Series(dtype=dtypes[column])\n",
    "        \n",
    "        # Append the DataFrame to the list\n",
    "        dfs.append(data)\n",
    "\n",
    "# Concatenate all DataFrames in the list\n",
    "combined_data = pd.concat(dfs, ignore_index=True)\n",
    "\n",
    "# Drop any remaining columns that are completely empty\n",
    "combined_data.dropna(axis=1, how='all', inplace=True)\n",
    "\n",
    "# Save the combined DataFrame to a new CSV file\n",
    "combined_data.to_csv(\"combined_height_exp.csv\", index=False)\n",
    "\n",
    "df1 = combined_data\n"
   ]
  },
  {
   "cell_type": "code",
   "execution_count": 8,
   "metadata": {},
   "outputs": [],
   "source": [
    "dir = os.getcwd()\n",
    "file_path = dir + \"/finaldata_v3_2023.csv\" \n",
    "df2 = pd.read_csv(file_path)"
   ]
  },
  {
   "cell_type": "code",
   "execution_count": 13,
   "metadata": {},
   "outputs": [
    {
     "data": {
      "text/plain": [
       "Index(['Season', 'TeamName', 'de_TOPct', 'de_ORPct', 'de_FTRate', 'o_eFGPct',\n",
       "       'o_TOPct', 'o_ORPct', 'o_FTRate', 'Tempo', 'OE', 'DE', 'AdjDE', 'AdjEM',\n",
       "       'Off_2', 'Off_3', 'Def_2', 'Def_3', 'CONF', 'G', 'W', '2P_D', '3P_O',\n",
       "       '3P_D', 'WAB', 'POSTSEASON', 'SEED', 'Size', 'SizeRank', 'Hgt5',\n",
       "       'Hgt5Rank', 'Hgt4', 'Hgt4Rank', 'Hgt3', 'Hgt3Rank', 'Hgt2', 'Hgt2Rank',\n",
       "       'Hgt1', 'Hgt1Rank', 'HgtEff', 'HgtEffRank', 'Exp', 'ExpRank', 'Bench',\n",
       "       'BenchRank', 'Pts5', 'Pts5Rank', 'Pts4', 'Pts4Rank', 'Pts3', 'Pts3Rank',\n",
       "       'Pts2', 'Pts2Rank', 'Pts1', 'Pts1Rank', 'OR5', 'OR5Rank', 'OR4',\n",
       "       'OR4Rank', 'OR3', 'OR3Rank', 'OR2', 'OR2Rank', 'OR1', 'OR1Rank', 'DR5',\n",
       "       'DR5Rank', 'DR4', 'DR4Rank', 'DR3', 'DR3Rank', 'DR2', 'DR2Rank', 'DR1',\n",
       "       'DR1Rank', 'Success'],\n",
       "      dtype='object')"
      ]
     },
     "execution_count": 13,
     "metadata": {},
     "output_type": "execute_result"
    }
   ],
   "source": [
    "final_df.columns"
   ]
  },
  {
   "cell_type": "code",
   "execution_count": 19,
   "metadata": {},
   "outputs": [
    {
     "data": {
      "image/png": "[encoded data removed]",
      "text/plain": [
       "<Figure size 720x432 with 1 Axes>"
      ]
     },
     "metadata": {
      "needs_background": "light"
     },
     "output_type": "display_data"
    },
    {
     "name": "stdout",
     "output_type": "stream",
     "text": [
      "Training Accuracy: 1.0\n",
      "Test Accuracy: 0.7647058823529411\n"
     ]
    }
   ],
   "source": [
    "from sklearn.ensemble import RandomForestClassifier\n",
    "from sklearn.model_selection import train_test_split\n",
    "from sklearn.metrics import accuracy_score\n",
    "\n",
    "temp = final_df\n",
    "temp['Success'] = temp['POSTSEASON'].apply(lambda x: 1 if x in ['R32', 'S16', 'E8', 'F4', '2ND', 'Champions'] else 0)\n",
    "\n",
    "features = ['de_TOPct', 'de_ORPct', 'de_FTRate', 'o_eFGPct',\n",
    "       'o_TOPct', 'o_ORPct', 'o_FTRate', 'Tempo', 'OE', 'DE', 'AdjDE', 'AdjEM',\n",
    "       'Off_2', 'Off_3', 'Def_2', 'Def_3', 'W', '2P_D', '3P_O',\n",
    "       '3P_D', 'WAB', 'SEED', 'Size', 'SizeRank', 'Hgt5',\n",
    "       'Hgt5Rank', 'Hgt4', 'Hgt4Rank', 'Hgt3', 'Hgt3Rank', 'Hgt2', 'Hgt2Rank',\n",
    "       'Hgt1', 'Hgt1Rank', 'HgtEff', 'HgtEffRank', 'Exp', 'ExpRank', 'Bench',\n",
    "       'BenchRank', 'Pts5', 'Pts5Rank', 'Pts4', 'Pts4Rank', 'Pts3', 'Pts3Rank',\n",
    "       'Pts2', 'Pts2Rank', 'Pts1', 'Pts1Rank', 'OR5', 'OR5Rank', 'OR4',\n",
    "       'OR4Rank', 'OR3', 'OR3Rank', 'OR2', 'OR2Rank', 'OR1', 'OR1Rank', 'DR5',\n",
    "       'DR5Rank', 'DR4', 'DR4Rank', 'DR3', 'DR3Rank', 'DR2', 'DR2Rank', 'DR1',\n",
    "       'DR1Rank']\n",
    "\n",
    "# Preparing the features and target variable\n",
    "X = temp[features]  # Using the same features as before\n",
    "y = temp['Success']\n",
    "\n",
    "# Splitting the data into training and testing sets\n",
    "X_train, X_test, y_train, y_test = train_test_split(X, y, test_size=0.3, random_state=42)\n",
    "\n",
    "# Fitting a Random Forest Classifier\n",
    "rf = RandomForestClassifier(n_estimators=100, random_state=42)\n",
    "rf.fit(X_train, y_train)\n",
    "\n",
    "# Predicting on the test set and calculating accuracy\n",
    "y_pred = rf.predict(X_test)\n",
    "test_accuracy = accuracy_score(y_test, y_pred)\n",
    "\n",
    "# Getting feature importances and selecting the top 10\n",
    "feature_importances = pd.Series(rf.feature_importances_, index=features).sort_values(ascending=False)\n",
    "top_10_features = feature_importances.head(25)\n",
    "\n",
    "# Plotting top 10 feature importances\n",
    "plt.figure(figsize=(10, 6))\n",
    "top_10_features.sort_values().plot(kind='barh')\n",
    "plt.title('Top 10 Feature Importances in Predicting Postseason Success')\n",
    "plt.xlabel('Importance')\n",
    "plt.ylabel('Feature')\n",
    "plt.show()\n",
    "\n",
    "# Predicting on the training set and calculating accuracy\n",
    "y_train_pred = rf.predict(X_train)\n",
    "train_accuracy = accuracy_score(y_train, y_train_pred)\n",
    "\n",
    "print(f'Training Accuracy: {train_accuracy}')\n",
    "print(f'Test Accuracy: {test_accuracy}')\n"
   ]
  }
 ],
 "metadata": {
  "kernelspec": {
   "display_name": "Python 3",
   "language": "python",
   "name": "python3"
  },
  "language_info": {
   "codemirror_mode": {
    "name": "ipython",
    "version": 3
   },
   "file_extension": ".py",
   "mimetype": "text/x-python",
   "name": "python",
   "nbconvert_exporter": "python",
   "pygments_lexer": "ipython3",
   "version": "3.9.0"
  }
 },
 "nbformat": 4,
 "nbformat_minor": 2
}
