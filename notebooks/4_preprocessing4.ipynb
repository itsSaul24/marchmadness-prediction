{
 "cells": [
  {
   "cell_type": "code",
   "execution_count": 2,
   "metadata": {},
   "outputs": [
    {
     "name": "stderr",
     "output_type": "stream",
     "text": [
      "/opt/anaconda3/lib/python3.9/site-packages/pandas/core/computation/expressions.py:21: UserWarning: Pandas requires version '2.8.4' or newer of 'numexpr' (version '2.7.3' currently installed).\n",
      "  from pandas.core.computation.check import NUMEXPR_INSTALLED\n",
      "/opt/anaconda3/lib/python3.9/site-packages/pandas/core/arrays/masked.py:60: UserWarning: Pandas requires version '1.3.6' or newer of 'bottleneck' (version '1.3.2' currently installed).\n",
      "  from pandas.core import (\n",
      "/var/folders/fs/g9ydf4hn48ng21n8dv53yt380000gn/T/ipykernel_21805/2322836724.py:3: DeprecationWarning: \n",
      "Pyarrow will become a required dependency of pandas in the next major release of pandas (pandas 3.0),\n",
      "(to allow more performant data types, such as the Arrow string type, and better interoperability with other libraries)\n",
      "but was not found to be installed on your system.\n",
      "If this would cause problems for you,\n",
      "please provide us feedback at https://github.com/pandas-dev/pandas/issues/54466\n",
      "        \n",
      "  import pandas as pd\n"
     ]
    }
   ],
   "source": [
    "# import required packages\n",
    "import os\n",
    "import pandas as pd\n",
    "import matplotlib.pyplot as plt\n",
    "import seaborn as sns\n",
    "import matplotlib.pyplot as plt\n",
    "import seaborn as sns\n",
    "from sklearn.preprocessing import StandardScaler\n",
    "from sklearn.decomposition import PCA\n",
    "from mpl_toolkits.mplot3d import Axes3D\n",
    "import numpy as np\n",
    "import os"
   ]
  },
  {
   "cell_type": "code",
   "execution_count": 3,
   "metadata": {},
   "outputs": [],
   "source": [
    "# Script to combine final season data\n",
    "data = os.getcwd() + \"/2024_data_v1.csv\"\n",
    "data = pd.read_csv(data)\n",
    "data = data.drop(['RankTempo', 'AdjTempo', 'RankAdjTempo', 'RankOE', 'AdjOE', 'RankAdjOE', 'RankDE', 'RankAdjDE', 'RankAdjEM'], axis=1)\n",
    "data = data.dropna(subset=['SEED'])\n",
    "\n",
    "data.head(68)\n",
    "data.to_csv(\"2024_data_v2.csv\", index=False)\n"
   ]
  },
  {
   "cell_type": "code",
   "execution_count": 4,
   "metadata": {},
   "outputs": [],
   "source": [
    "data = os.getcwd() + \"/2024_data_v3.csv\"\n",
    "data = pd.read_csv(data)\n",
    "\n",
    "def odds_to_percentage(odds):\n",
    "    if odds > 0:\n",
    "        return (100 / (odds + 100))\n",
    "    else:\n",
    "        # Add your conversion rule for negative odds if necessary\n",
    "        return abs(odds) / (abs(odds) + 100) * 100\n",
    "\n",
    "# Apply the conversion function to your Vegas odds column\n",
    "# Replace 'VegasOddsColumn' with the actual name of your column containing the Vegas odds\n",
    "data['FUTURE_ODDS'] = data['FUTURE_ODDS'].apply(odds_to_percentage)\n",
    "\n",
    "# Assuming 'data' is your DataFrame\n",
    "data = data.loc[data['TeamName'] != 'Montana St.']\n",
    "data = data.loc[data['TeamName'] != 'Boise St.']\n",
    "data = data.loc[data['TeamName'] != 'Howard']\n",
    "data = data.loc[data['TeamName'] != 'Virginia']\n",
    "\n",
    "\n",
    "\n",
    "\n",
    "# Save the updated dataset\n",
    "data.to_csv('2024_data_v4.csv', index=False)"
   ]
  },
  {
   "cell_type": "code",
   "execution_count": 4,
   "metadata": {},
   "outputs": [
    {
     "data": {
      "text/plain": [
       "Index(['Season', 'TeamName', 'Tempo', 'OE', 'DE', 'AdjDE', 'AdjEM', 'SEED',\n",
       "       'G', 'W', 'FUTURE_ODDS', 'POSTSEASON'],\n",
       "      dtype='object')"
      ]
     },
     "execution_count": 4,
     "metadata": {},
     "output_type": "execute_result"
    }
   ],
   "source": [
    "data = os.getcwd() + \"/data_vegasodds.csv\"\n",
    "data = pd.read_csv(data)\n",
    "\n",
    "data = data[data['Season'] >= 2021]\n",
    "\n",
    "def odds_to_percentage(odds):\n",
    "    if odds > 0:\n",
    "        return (100 / (odds + 100))\n",
    "    else:\n",
    "        # Add your conversion rule for negative odds if necessary\n",
    "        return abs(odds) / (abs(odds) + 100) * 100\n",
    "\n",
    "# Apply the conversion function to your Vegas odds column\n",
    "# Replace 'VegasOddsColumn' with the actual name of your column containing the Vegas odds\n",
    "data['FUTURE_ODDS'] = data['FUTURE_ODDS'].apply(odds_to_percentage)\n",
    "\n",
    "columns_to_keep = ['Season', 'TeamName', 'Tempo', 'OE', 'DE', 'AdjDE', 'AdjEM', 'SEED', 'G', 'W', 'FUTURE_ODDS', 'POSTSEASON']\n",
    "existing_columns = [col for col in columns_to_keep if col in data.columns]\n",
    "\n",
    "data = data.loc[:, existing_columns]\n",
    "\n",
    "\n",
    "# Save the updated dataset\n",
    "data.to_csv('2021plus_data_v1.csv', index=False)\n",
    "\n",
    "data.columns"
   ]
  }
 ],
 "metadata": {
  "kernelspec": {
   "display_name": "base",
   "language": "python",
   "name": "python3"
  },
  "language_info": {
   "codemirror_mode": {
    "name": "ipython",
    "version": 3
   },
   "file_extension": ".py",
   "mimetype": "text/x-python",
   "name": "python",
   "nbconvert_exporter": "python",
   "pygments_lexer": "ipython3",
   "version": "3.9.7"
  }
 },
 "nbformat": 4,
 "nbformat_minor": 2
}
